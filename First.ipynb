{
  "cells": [
    {
      "cell_type": "markdown",
      "metadata": {
        "id": "view-in-github",
        "colab_type": "text"
      },
      "source": [
        "<a href=\"https://colab.research.google.com/github/Kolosocc/Convert/blob/main/First.ipynb\" target=\"_parent\"><img src=\"https://colab.research.google.com/assets/colab-badge.svg\" alt=\"Open In Colab\"/></a>"
      ]
    },
    {
      "cell_type": "code",
      "source": [
        "import numpy as np\n",
        "a = np.array([5.2, 3.1, 8.9])\n",
        "b = np.array([1.7, 3.5, 4.9])\n",
        "print(np.sum([a, b]))"
      ],
      "metadata": {
        "colab": {
          "base_uri": "https://localhost:8080/"
        },
        "id": "y8r90SxV-Mbz",
        "outputId": "ef784b88-d818-41de-f1b4-e564fe3a3e1e"
      },
      "execution_count": 3,
      "outputs": [
        {
          "output_type": "stream",
          "name": "stdout",
          "text": [
            "27.300000000000004\n"
          ]
        }
      ]
    },
    {
      "cell_type": "code",
      "source": [
        "import numpy as np\n",
        "\n",
        "v = np.array([0.2, 8.3, 7.8, 4.7, 6.4])\n",
        "\n",
        "v = np.insert(v, 0, 1.1)\n",
        "v = np.insert(v, 2, 3.3)\n",
        "v = np.insert(v, 5, 5.5)\n",
        "\n",
        "print(v)\n",
        "\n"
      ],
      "metadata": {
        "colab": {
          "base_uri": "https://localhost:8080/"
        },
        "id": "D43XU6UI_ZrO",
        "outputId": "3781ee01-653a-4b7e-ca7a-db54674f69ad"
      },
      "execution_count": 8,
      "outputs": [
        {
          "output_type": "stream",
          "name": "stdout",
          "text": [
            "[1.1 0.2 3.3 8.3 7.8 5.5 4.7 6.4]\n"
          ]
        }
      ]
    },
    {
      "cell_type": "code",
      "source": [
        "import numpy as np\n",
        "\n",
        "w = np.array([1.8, 6.4, 9.3, 0.5, 2.1, 3.7, 2.9])\n",
        "\n",
        "w[2:7] = 0\n",
        "\n",
        "w1 = w[1:5]\n",
        "print(w1)\n",
        "\n",
        "w2 = np.concatenate((w[:1], w[2:]))\n",
        "print(w2)\n"
      ],
      "metadata": {
        "colab": {
          "base_uri": "https://localhost:8080/"
        },
        "id": "o2RjpIBGDNWV",
        "outputId": "7fc58c8d-1d95-4fbd-8b1e-8873034391df"
      },
      "execution_count": 13,
      "outputs": [
        {
          "output_type": "stream",
          "name": "stdout",
          "text": [
            "[6.4 0.  0.  0. ]\n",
            "[1.8 0.  0.  0.  0.  0. ]\n"
          ]
        }
      ]
    },
    {
      "cell_type": "code",
      "source": [
        "import numpy as np\n",
        "\n",
        "z = np.array([2.2, 4.1, 8.9, 3.2, 2.1, 5.8, 2.1, 2.1, 9.7])\n",
        "\n",
        "maxNum = np.max(z)\n",
        "minNum = np.min(z)\n",
        "\n",
        "maxI = np.where(z == maxNum)[0][0]\n",
        "\n",
        "print(maxNum, minNum, maxI)"
      ],
      "metadata": {
        "colab": {
          "base_uri": "https://localhost:8080/"
        },
        "id": "D86hs1uHEVcI",
        "outputId": "a5526289-f205-43ab-95a0-8097407e00ce"
      },
      "execution_count": 18,
      "outputs": [
        {
          "output_type": "stream",
          "name": "stdout",
          "text": [
            "9.7 2.1 [8]\n"
          ]
        }
      ]
    },
    {
      "cell_type": "code",
      "source": [
        "import numpy as np\n",
        "\n",
        "r = np.array([-0.2, 6.3, -9.4, 3.8, 7.4, 0.1])\n",
        "\n",
        "a = np.sort(r)\n",
        "\n",
        "b = np.sort(r)[::-1]\n",
        "\n",
        "print(a)\n",
        "print(b)\n"
      ],
      "metadata": {
        "colab": {
          "base_uri": "https://localhost:8080/"
        },
        "id": "ZM-KYQ_lHrM4",
        "outputId": "adc262b0-b883-4e30-8e26-782660c0c2c0"
      },
      "execution_count": 22,
      "outputs": [
        {
          "output_type": "stream",
          "name": "stdout",
          "text": [
            "[-9.4 -0.2  0.1  3.8  6.3  7.4]\n",
            "[ 7.4  6.3  3.8  0.1 -0.2 -9.4]\n"
          ]
        }
      ]
    },
    {
      "cell_type": "code",
      "source": [
        "import numpy as np\n",
        "\n",
        "v1 = np.array([2, 8, -4, 3])\n",
        "v2 = np.array([-5, 7, -3, 1])\n",
        "\n",
        "print(np.dot(v1,v2))\n",
        "print(v1 ** 2)\n",
        "print('[' + ' '.join(map(str, v1 / v2)) + ']')\n",
        "print('[' + ' '.join(map(str, v2 / v1)) + ']')"
      ],
      "metadata": {
        "colab": {
          "base_uri": "https://localhost:8080/"
        },
        "id": "1bSgHp2CIZdg",
        "outputId": "48059da6-158c-42b0-bb9b-2b4e35cd1891"
      },
      "execution_count": 35,
      "outputs": [
        {
          "output_type": "stream",
          "name": "stdout",
          "text": [
            "61\n",
            "[ 4 64 16  9]\n",
            "[-0.4 1.1428571428571428 1.3333333333333333 3.0]\n",
            "[-2.5 0.875 0.75 0.3333333333333333]\n"
          ]
        }
      ]
    },
    {
      "cell_type": "code",
      "source": [
        "import numpy as np\n",
        "\n",
        "ascii = np.arange(97, 123)\n",
        "alphabetChars = np.char.mod('%c', ascii)\n",
        "alphabet = ''.join(alphabetChars)\n",
        "print(alphabet)\n",
        "\n",
        "print( ''.join(alphabet[1::2]))\n",
        "print( ''.join(alphabet[6::7]))\n",
        "\n",
        "input_file_path = \"input.txt\"\n",
        "output_file_path = \"output.txt\"\n",
        "\n",
        "with open(input_file_path, 'r') as input_file:\n",
        "    text = input_file.read()\n",
        "    text_array = np.array(list(text))\n",
        "\n",
        "    with open(output_file_path, 'w') as output_file:\n",
        "        output_file.write(''.join(text_array[1::2]) + '\\n' + ''.join(text_array[6::7]))\n",
        "\n"
      ],
      "metadata": {
        "colab": {
          "base_uri": "https://localhost:8080/"
        },
        "id": "6bx3DbsxLRjX",
        "outputId": "753f599e-9a32-4512-9e95-e4b3985f008e"
      },
      "execution_count": 43,
      "outputs": [
        {
          "output_type": "stream",
          "name": "stdout",
          "text": [
            "abcdefghijklmnopqrstuvwxyz\n",
            "bdfhjlnprtvxz\n",
            "gnu\n",
            "output.txt\n"
          ]
        }
      ]
    },
    {
      "cell_type": "code",
      "source": [],
      "metadata": {
        "id": "k78PkVapKT-Q"
      },
      "execution_count": 26,
      "outputs": []
    }
  ],
  "metadata": {
    "colab": {
      "name": "Добро пожаловать в Colaboratory!",
      "provenance": [],
      "include_colab_link": true
    },
    "kernelspec": {
      "display_name": "Python 3",
      "name": "python3"
    }
  },
  "nbformat": 4,
  "nbformat_minor": 0
}